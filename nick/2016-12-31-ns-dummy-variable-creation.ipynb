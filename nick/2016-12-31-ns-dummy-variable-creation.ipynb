{
 "cells": [
  {
   "cell_type": "markdown",
   "metadata": {},
   "source": [
    "## Dummy Variables\n",
    "\n",
    "### Income\n",
    "\n",
    "|        | income_middle | income_upper |\n",
    "|--------|---------------|--------------|\n",
    "| low    | 0             | 0            |\n",
    "| middle | 1             | 0            |\n",
    "| upper  | 0             | 1            |\n",
    "\n",
    "\n",
    "### Age\n",
    "\n",
    "|              | age_young_adult | age_mature_adult | age_senior |\n",
    "|--------------|-----------------|------------------|------------|\n",
    "| students     | 0               | 0                | 0          |\n",
    "| young_adult  | 1               | 0                | 0          |\n",
    "| mature_adult | 0               | 1                | 0          |\n",
    "| senior       | 0               | 0                | 1          |\n",
    "\n",
    "\n",
    "### Relationship\n",
    "\n",
    "|         | relationship_married | relationship_single |\n",
    "|---------|----------------------|---------------------|\n",
    "| unknown | 0                    | 0                   |\n",
    "| married | 1                    | 0                   |\n",
    "| single  | 0                    | 1                   |\n",
    "\n",
    "\n",
    "### Home\n",
    "\n",
    "|         | home_owner | home_renter |\n",
    "|---------|------------|-------------|\n",
    "| unknown | 0          | 0           |\n",
    "| owner   | 1          | 0           |\n",
    "| renter  | 0          | 1           |\n",
    "\n",
    "\n",
    "### Home Size\n",
    "\n",
    "|        | homesize_couple | homesize_group |\n",
    "|--------|-----------------|----------------|\n",
    "| single | 0               | 0              |\n",
    "| couple | 1               | 0              |\n",
    "| group  | 0               | 1              |"
   ]
  },
  {
   "cell_type": "code",
   "execution_count": 1,
   "metadata": {
    "collapsed": true
   },
   "outputs": [],
   "source": [
    "import numpy as np\n",
    "import pandas as pd"
   ]
  },
  {
   "cell_type": "code",
   "execution_count": 30,
   "metadata": {
    "collapsed": true
   },
   "outputs": [],
   "source": [
    "households = 'data/hh_demographic.csv'\n",
    "df_hh = pd.read_csv(households)"
   ]
  },
  {
   "cell_type": "markdown",
   "metadata": {},
   "source": [
    "Income Categories:\n",
    "\n",
    "    * Lower: 0 - 34K\n",
    "    * Middle: 35 - 74K\n",
    "    * Upper: 75K+"
   ]
  },
  {
   "cell_type": "code",
   "execution_count": 31,
   "metadata": {
    "collapsed": false
   },
   "outputs": [],
   "source": [
    "df_hh['income'] = df_hh.INCOME_DESC.map({\n",
    "    'Under 15K': 'lower',\n",
    "    '15-24K': 'lower',\n",
    "    '25-34K': 'lower',\n",
    "    '35-49K': 'middle',\n",
    "    '50-74K': 'middle',\n",
    "    '75-99K': 'upper',\n",
    "    '100-124K': 'upper',\n",
    "    '125-149K': 'upper',\n",
    "    '150-174K': 'upper',\n",
    "    '175-199K': 'upper',\n",
    "    '200-249K': 'upper',\n",
    "    '250K+': 'upper'\n",
    "})"
   ]
  },
  {
   "cell_type": "markdown",
   "metadata": {},
   "source": [
    "Age Categories:\n",
    "\n",
    "    * Students: 19-24\n",
    "    * Young Adults: 25-44\n",
    "    * Mature Adults: 45-64\n",
    "    * Seniors: 65+"
   ]
  },
  {
   "cell_type": "code",
   "execution_count": 32,
   "metadata": {
    "collapsed": true
   },
   "outputs": [],
   "source": [
    "df_hh['age'] = df_hh.AGE_DESC.map({\n",
    "    '19-24': 'student',\n",
    "    '25-34': 'young_adult',\n",
    "    '35-44': 'young_adult',\n",
    "    '45-54': 'mature_adult',\n",
    "    '55-64': 'mature_adult',\n",
    "    '65+': 'senior'\n",
    "})"
   ]
  },
  {
   "cell_type": "markdown",
   "metadata": {},
   "source": [
    "Relationship Categories:\n",
    "\n",
    "    * Married\n",
    "    * Single\n",
    "    * Unknown"
   ]
  },
  {
   "cell_type": "code",
   "execution_count": 33,
   "metadata": {
    "collapsed": true
   },
   "outputs": [],
   "source": [
    "df_hh['relationship'] = df_hh.MARITAL_STATUS_CODE.map({\n",
    "    'A': 'married',\n",
    "    'B': 'single',\n",
    "    'U': 'unknown'\n",
    "})"
   ]
  },
  {
   "cell_type": "markdown",
   "metadata": {},
   "source": [
    "Household Categories:\n",
    "\n",
    "    * Owner : Homeowners or Probable Owners\n",
    "    * Renter : Renters or Probable Renters\n",
    "    * Unknown"
   ]
  },
  {
   "cell_type": "code",
   "execution_count": 34,
   "metadata": {
    "collapsed": true
   },
   "outputs": [],
   "source": [
    "df_hh['home'] = df_hh.HOMEOWNER_DESC.map({\n",
    "    'Probable Renter': 'renter',\n",
    "    'Renter': 'renter',\n",
    "    'Probable Owner': 'owner',\n",
    "    'Homeowner': 'owner',\n",
    "    'Unknown': 'unknown'\n",
    "})"
   ]
  },
  {
   "cell_type": "markdown",
   "metadata": {},
   "source": [
    "House Size Categories:\n",
    "\n",
    "    * Single : 1\n",
    "    * Couple : 2\n",
    "    * Group : 3+"
   ]
  },
  {
   "cell_type": "code",
   "execution_count": 35,
   "metadata": {
    "collapsed": true
   },
   "outputs": [],
   "source": [
    "df_hh['homesize'] = df_hh.HOUSEHOLD_SIZE_DESC.map({\n",
    "    '1': 'single',\n",
    "    '2': 'couple',\n",
    "    '3': 'group',\n",
    "    '4': 'group',\n",
    "    '5+': 'group'\n",
    "})"
   ]
  },
  {
   "cell_type": "code",
   "execution_count": 47,
   "metadata": {
    "collapsed": false
   },
   "outputs": [],
   "source": [
    "df_dummy = df_hh[['household_key', 'income', 'age', 'relationship', 'home', 'homesize']]\n",
    "df_dummy = pd.get_dummies(df_dummy, columns=['income', 'age', 'relationship', 'home', 'homesize'])\n",
    "df_dummy = df_dummy.drop(['income_lower', 'age_student', 'relationship_unknown', 'home_unknown', 'homesize_single'], axis=1)\n",
    "df_dummy.to_csv('hh_dummy_vars.csv')"
   ]
  }
 ],
 "metadata": {
  "kernelspec": {
   "display_name": "Python 2",
   "language": "python",
   "name": "python2"
  },
  "language_info": {
   "codemirror_mode": {
    "name": "ipython",
    "version": 2
   },
   "file_extension": ".py",
   "mimetype": "text/x-python",
   "name": "python",
   "nbconvert_exporter": "python",
   "pygments_lexer": "ipython2",
   "version": "2.7.13"
  }
 },
 "nbformat": 4,
 "nbformat_minor": 2
}
