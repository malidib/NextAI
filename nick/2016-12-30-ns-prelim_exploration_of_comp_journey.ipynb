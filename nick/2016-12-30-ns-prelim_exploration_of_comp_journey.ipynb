{
 "cells": [
  {
   "cell_type": "code",
   "execution_count": 27,
   "metadata": {
    "collapsed": true
   },
   "outputs": [],
   "source": [
    "import pandas as pd\n",
    "from IPython.display import HTML, display\n"
   ]
  },
  {
   "cell_type": "code",
   "execution_count": null,
   "metadata": {
    "collapsed": true
   },
   "outputs": [],
   "source": [
    "transactions = 'data/transaction_data.csv'\n",
    "households = 'data/hh_demographic.csv'\n",
    "products = 'data/product.csv'\n",
    "campaign_desc = 'data/campaign_desc.csv'\n",
    "campaign_table = 'data/campaign_table.csv'\n",
    "causal_data = 'data/causal_data.csv'\n",
    "coupon = 'data/coupon.csv'\n",
    "coupon_redempt = 'data/coupon_redempt.csv'"
   ]
  },
  {
   "cell_type": "code",
   "execution_count": 2,
   "metadata": {
    "collapsed": false
   },
   "outputs": [],
   "source": [
    "df_trans = pd.read_csv(transactions)\n",
    "df_hh = pd.read_csv(households)\n",
    "df_prod = pd.read_csv(products)\n",
    "df_camp_desc = pd.read_csv(campaign_desc)\n",
    "df_camp_table = pd.read_csv(campaign_table)\n",
    "df_causal = pd.read_csv(causal_data)\n",
    "df_coup = pd.read_csv(coupon)\n",
    "df_coup_redempt = pd.read_csv(coupon_redempt)"
   ]
  },
  {
   "cell_type": "markdown",
   "metadata": {},
   "source": [
    "## Households"
   ]
  },
  {
   "cell_type": "code",
   "execution_count": 23,
   "metadata": {
    "collapsed": false
   },
   "outputs": [
    {
     "name": "stdout",
     "output_type": "stream",
     "text": [
      "# of households: 801\n"
     ]
    }
   ],
   "source": [
    "print '# of households: {}'.format(len(df_hh.index))"
   ]
  },
  {
   "cell_type": "code",
   "execution_count": 24,
   "metadata": {
    "collapsed": false
   },
   "outputs": [
    {
     "name": "stdout",
     "output_type": "stream",
     "text": [
      "Sample\n"
     ]
    },
    {
     "data": {
      "text/html": [
       "<div>\n",
       "<table border=\"1\" class=\"dataframe\">\n",
       "  <thead>\n",
       "    <tr style=\"text-align: right;\">\n",
       "      <th></th>\n",
       "      <th>AGE_DESC</th>\n",
       "      <th>MARITAL_STATUS_CODE</th>\n",
       "      <th>INCOME_DESC</th>\n",
       "      <th>HOMEOWNER_DESC</th>\n",
       "      <th>HH_COMP_DESC</th>\n",
       "      <th>HOUSEHOLD_SIZE_DESC</th>\n",
       "      <th>KID_CATEGORY_DESC</th>\n",
       "      <th>household_key</th>\n",
       "    </tr>\n",
       "  </thead>\n",
       "  <tbody>\n",
       "    <tr>\n",
       "      <th>588</th>\n",
       "      <td>45-54</td>\n",
       "      <td>U</td>\n",
       "      <td>125-149K</td>\n",
       "      <td>Homeowner</td>\n",
       "      <td>1 Adult Kids</td>\n",
       "      <td>5+</td>\n",
       "      <td>3+</td>\n",
       "      <td>1864</td>\n",
       "    </tr>\n",
       "    <tr>\n",
       "      <th>493</th>\n",
       "      <td>25-34</td>\n",
       "      <td>A</td>\n",
       "      <td>50-74K</td>\n",
       "      <td>Homeowner</td>\n",
       "      <td>2 Adults No Kids</td>\n",
       "      <td>2</td>\n",
       "      <td>None/Unknown</td>\n",
       "      <td>1527</td>\n",
       "    </tr>\n",
       "    <tr>\n",
       "      <th>780</th>\n",
       "      <td>45-54</td>\n",
       "      <td>U</td>\n",
       "      <td>50-74K</td>\n",
       "      <td>Homeowner</td>\n",
       "      <td>1 Adult Kids</td>\n",
       "      <td>5+</td>\n",
       "      <td>3+</td>\n",
       "      <td>2435</td>\n",
       "    </tr>\n",
       "    <tr>\n",
       "      <th>508</th>\n",
       "      <td>55-64</td>\n",
       "      <td>B</td>\n",
       "      <td>35-49K</td>\n",
       "      <td>Homeowner</td>\n",
       "      <td>Single Female</td>\n",
       "      <td>1</td>\n",
       "      <td>None/Unknown</td>\n",
       "      <td>1568</td>\n",
       "    </tr>\n",
       "    <tr>\n",
       "      <th>191</th>\n",
       "      <td>35-44</td>\n",
       "      <td>U</td>\n",
       "      <td>50-74K</td>\n",
       "      <td>Unknown</td>\n",
       "      <td>Single Female</td>\n",
       "      <td>1</td>\n",
       "      <td>None/Unknown</td>\n",
       "      <td>575</td>\n",
       "    </tr>\n",
       "  </tbody>\n",
       "</table>\n",
       "</div>"
      ],
      "text/plain": [
       "    AGE_DESC MARITAL_STATUS_CODE INCOME_DESC HOMEOWNER_DESC      HH_COMP_DESC  \\\n",
       "588    45-54                   U    125-149K      Homeowner      1 Adult Kids   \n",
       "493    25-34                   A      50-74K      Homeowner  2 Adults No Kids   \n",
       "780    45-54                   U      50-74K      Homeowner      1 Adult Kids   \n",
       "508    55-64                   B      35-49K      Homeowner     Single Female   \n",
       "191    35-44                   U      50-74K        Unknown     Single Female   \n",
       "\n",
       "    HOUSEHOLD_SIZE_DESC KID_CATEGORY_DESC  household_key  \n",
       "588                  5+                3+           1864  \n",
       "493                   2      None/Unknown           1527  \n",
       "780                  5+                3+           2435  \n",
       "508                   1      None/Unknown           1568  \n",
       "191                   1      None/Unknown            575  "
      ]
     },
     "execution_count": 24,
     "metadata": {},
     "output_type": "execute_result"
    }
   ],
   "source": [
    "print 'Sample'\n",
    "df_hh.sample(5)"
   ]
  },
  {
   "cell_type": "markdown",
   "metadata": {},
   "source": [
    "Some categories are not fully described in PDF"
   ]
  },
  {
   "cell_type": "code",
   "execution_count": 65,
   "metadata": {
    "collapsed": false
   },
   "outputs": [],
   "source": [
    "hh_categories = {\n",
    "    'Age Ranges': 'AGE_DESC',\n",
    "    'Income Ranges': 'INCOME_DESC',\n",
    "    'Homeowner Categories': 'HOMEOWNER_DESC',\n",
    "    'Household Descriptions': 'HH_COMP_DESC',\n",
    "    'Kid Categories': 'KID_CATEGORY_DESC'\n",
    "}\n"
   ]
  },
  {
   "cell_type": "code",
   "execution_count": 71,
   "metadata": {
    "collapsed": false
   },
   "outputs": [
    {
     "data": {
      "text/html": [
       "<h4>Income Ranges</h4>"
      ],
      "text/plain": [
       "<IPython.core.display.HTML object>"
      ]
     },
     "metadata": {},
     "output_type": "display_data"
    },
    {
     "data": {
      "text/html": [
       "<table><tr><td>150-174K</td><td>Under 15K</td><td>15-24K</td><td>125-149K</td><td>100-124K</td><td>250K+</td><td>35-49K</td><td>75-99K</td><td>25-34K</td><td>175-199K</td><td>200-249K</td><td>50-74K</td></tr></table>"
      ],
      "text/plain": [
       "<IPython.core.display.HTML object>"
      ]
     },
     "metadata": {},
     "output_type": "display_data"
    },
    {
     "data": {
      "text/html": [
       "<h4>Household Descriptions</h4>"
      ],
      "text/plain": [
       "<IPython.core.display.HTML object>"
      ]
     },
     "metadata": {},
     "output_type": "display_data"
    },
    {
     "data": {
      "text/html": [
       "<table><tr><td>2 Adults No Kids</td><td>2 Adults Kids</td><td>Single Male</td><td>Unknown</td><td>1 Adult Kids</td><td>Single Female</td></tr></table>"
      ],
      "text/plain": [
       "<IPython.core.display.HTML object>"
      ]
     },
     "metadata": {},
     "output_type": "display_data"
    },
    {
     "data": {
      "text/html": [
       "<h4>Kid Categories</h4>"
      ],
      "text/plain": [
       "<IPython.core.display.HTML object>"
      ]
     },
     "metadata": {},
     "output_type": "display_data"
    },
    {
     "data": {
      "text/html": [
       "<table><tr><td>1</td><td>None/Unknown</td><td>2</td><td>3+</td></tr></table>"
      ],
      "text/plain": [
       "<IPython.core.display.HTML object>"
      ]
     },
     "metadata": {},
     "output_type": "display_data"
    },
    {
     "data": {
      "text/html": [
       "<h4>Homeowner Categories</h4>"
      ],
      "text/plain": [
       "<IPython.core.display.HTML object>"
      ]
     },
     "metadata": {},
     "output_type": "display_data"
    },
    {
     "data": {
      "text/html": [
       "<table><tr><td>Probable Renter</td><td>Unknown</td><td>Probable Owner</td><td>Renter</td><td>Homeowner</td></tr></table>"
      ],
      "text/plain": [
       "<IPython.core.display.HTML object>"
      ]
     },
     "metadata": {},
     "output_type": "display_data"
    },
    {
     "data": {
      "text/html": [
       "<h4>Age Ranges</h4>"
      ],
      "text/plain": [
       "<IPython.core.display.HTML object>"
      ]
     },
     "metadata": {},
     "output_type": "display_data"
    },
    {
     "data": {
      "text/html": [
       "<table><tr><td>19-24</td><td>45-54</td><td>25-34</td><td>55-64</td><td>35-44</td><td>65+</td></tr></table>"
      ],
      "text/plain": [
       "<IPython.core.display.HTML object>"
      ]
     },
     "metadata": {},
     "output_type": "display_data"
    }
   ],
   "source": [
    "for key, val in hh_categories.iteritems():\n",
    "    display(HTML('<h4>{}</h4>'.format(key)))\n",
    "    display(HTML(\n",
    "        '<table><tr><td>{}</td></tr></table>'.format(\n",
    "            '</td><td>'.join('{}'.format(str(_)) \n",
    "                             for _ in set(set(df_hh[val]))\n",
    "                            )\n",
    "        )\n",
    "    ))"
   ]
  },
  {
   "cell_type": "markdown",
   "metadata": {},
   "source": [
    "## Transactions"
   ]
  },
  {
   "cell_type": "code",
   "execution_count": 72,
   "metadata": {
    "collapsed": false
   },
   "outputs": [
    {
     "name": "stdout",
     "output_type": "stream",
     "text": [
      "# of transactions: 2595732\n"
     ]
    }
   ],
   "source": [
    "print '# of transactions: {}'.format(len(df_trans.index))"
   ]
  },
  {
   "cell_type": "code",
   "execution_count": 12,
   "metadata": {
    "collapsed": false
   },
   "outputs": [
    {
     "name": "stdout",
     "output_type": "stream",
     "text": [
      "Transaction Sample\n"
     ]
    },
    {
     "data": {
      "text/html": [
       "<div>\n",
       "<table border=\"1\" class=\"dataframe\">\n",
       "  <thead>\n",
       "    <tr style=\"text-align: right;\">\n",
       "      <th></th>\n",
       "      <th>household_key</th>\n",
       "      <th>BASKET_ID</th>\n",
       "      <th>DAY</th>\n",
       "      <th>PRODUCT_ID</th>\n",
       "      <th>QUANTITY</th>\n",
       "      <th>SALES_VALUE</th>\n",
       "      <th>STORE_ID</th>\n",
       "      <th>RETAIL_DISC</th>\n",
       "      <th>TRANS_TIME</th>\n",
       "      <th>WEEK_NO</th>\n",
       "      <th>COUPON_DISC</th>\n",
       "      <th>COUPON_MATCH_DISC</th>\n",
       "    </tr>\n",
       "  </thead>\n",
       "  <tbody>\n",
       "    <tr>\n",
       "      <th>124757</th>\n",
       "      <td>1407</td>\n",
       "      <td>28024510719</td>\n",
       "      <td>88</td>\n",
       "      <td>6039972</td>\n",
       "      <td>2</td>\n",
       "      <td>1.18</td>\n",
       "      <td>438</td>\n",
       "      <td>0.00</td>\n",
       "      <td>1030</td>\n",
       "      <td>13</td>\n",
       "      <td>0.0</td>\n",
       "      <td>0.0</td>\n",
       "    </tr>\n",
       "    <tr>\n",
       "      <th>1920995</th>\n",
       "      <td>864</td>\n",
       "      <td>40037646697</td>\n",
       "      <td>546</td>\n",
       "      <td>861279</td>\n",
       "      <td>1</td>\n",
       "      <td>2.99</td>\n",
       "      <td>410</td>\n",
       "      <td>-1.20</td>\n",
       "      <td>1815</td>\n",
       "      <td>79</td>\n",
       "      <td>0.0</td>\n",
       "      <td>0.0</td>\n",
       "    </tr>\n",
       "    <tr>\n",
       "      <th>399161</th>\n",
       "      <td>328</td>\n",
       "      <td>29157286884</td>\n",
       "      <td>164</td>\n",
       "      <td>1016302</td>\n",
       "      <td>1</td>\n",
       "      <td>2.29</td>\n",
       "      <td>361</td>\n",
       "      <td>-0.70</td>\n",
       "      <td>1313</td>\n",
       "      <td>24</td>\n",
       "      <td>0.0</td>\n",
       "      <td>0.0</td>\n",
       "    </tr>\n",
       "    <tr>\n",
       "      <th>688897</th>\n",
       "      <td>1983</td>\n",
       "      <td>30627042524</td>\n",
       "      <td>240</td>\n",
       "      <td>934420</td>\n",
       "      <td>1</td>\n",
       "      <td>3.99</td>\n",
       "      <td>327</td>\n",
       "      <td>0.00</td>\n",
       "      <td>2028</td>\n",
       "      <td>35</td>\n",
       "      <td>0.0</td>\n",
       "      <td>0.0</td>\n",
       "    </tr>\n",
       "    <tr>\n",
       "      <th>163245</th>\n",
       "      <td>113</td>\n",
       "      <td>28197513576</td>\n",
       "      <td>102</td>\n",
       "      <td>1081177</td>\n",
       "      <td>1</td>\n",
       "      <td>1.97</td>\n",
       "      <td>375</td>\n",
       "      <td>-1.09</td>\n",
       "      <td>1655</td>\n",
       "      <td>15</td>\n",
       "      <td>0.0</td>\n",
       "      <td>0.0</td>\n",
       "    </tr>\n",
       "  </tbody>\n",
       "</table>\n",
       "</div>"
      ],
      "text/plain": [
       "         household_key    BASKET_ID  DAY  PRODUCT_ID  QUANTITY  SALES_VALUE  \\\n",
       "124757            1407  28024510719   88     6039972         2         1.18   \n",
       "1920995            864  40037646697  546      861279         1         2.99   \n",
       "399161             328  29157286884  164     1016302         1         2.29   \n",
       "688897            1983  30627042524  240      934420         1         3.99   \n",
       "163245             113  28197513576  102     1081177         1         1.97   \n",
       "\n",
       "         STORE_ID  RETAIL_DISC  TRANS_TIME  WEEK_NO  COUPON_DISC  \\\n",
       "124757        438         0.00        1030       13          0.0   \n",
       "1920995       410        -1.20        1815       79          0.0   \n",
       "399161        361        -0.70        1313       24          0.0   \n",
       "688897        327         0.00        2028       35          0.0   \n",
       "163245        375        -1.09        1655       15          0.0   \n",
       "\n",
       "         COUPON_MATCH_DISC  \n",
       "124757                 0.0  \n",
       "1920995                0.0  \n",
       "399161                 0.0  \n",
       "688897                 0.0  \n",
       "163245                 0.0  "
      ]
     },
     "execution_count": 12,
     "metadata": {},
     "output_type": "execute_result"
    }
   ],
   "source": [
    "print 'Transaction Sample'\n",
    "df_trans.sample(5)"
   ]
  },
  {
   "cell_type": "code",
   "execution_count": 84,
   "metadata": {
    "collapsed": false
   },
   "outputs": [
    {
     "name": "stdout",
     "output_type": "stream",
     "text": [
      "# of baskets: 276484\n",
      "# of stores: 582\n",
      "Max Quantity: 89638\n",
      "Min Quantity: 0\n",
      "Max Sale Value: 840.0\n",
      "Min Sale Value: 0.0\n",
      "Max Retail Discount: 3.99\n",
      "Min Retail Discount: -180.0\n",
      "Max Coupon Discount: 0.0\n",
      "Min Coupon Discount: -55.93\n",
      "Max Coupon Match Discount: 0.0\n",
      "Min Coupon Match Discount: -7.7\n"
     ]
    }
   ],
   "source": [
    "print '# of baskets: {}'.format(len(set(df_trans['BASKET_ID'])))\n",
    "print '# of stores: {}'.format(len(set(df_trans['STORE_ID'])))\n",
    "print 'Max Quantity: {}'.format(df_trans['QUANTITY'].max())\n",
    "print 'Min Quantity: {}'.format(df_trans['QUANTITY'].min())\n",
    "print 'Max Sale Value: {}'.format(df_trans['SALES_VALUE'].max())\n",
    "print 'Min Sale Value: {}'.format(df_trans['SALES_VALUE'].min())\n",
    "print 'Max Retail Discount: {}'.format(df_trans['RETAIL_DISC'].max())\n",
    "print 'Min Retail Discount: {}'.format(df_trans['RETAIL_DISC'].min())\n",
    "print 'Max Coupon Discount: {}'.format(df_trans['COUPON_DISC'].max())\n",
    "print 'Min Coupon Discount: {}'.format(df_trans['COUPON_DISC'].min())\n",
    "print 'Max Coupon Match Discount: {}'.format(df_trans['COUPON_MATCH_DISC'].max())\n",
    "print 'Min Coupon Match Discount: {}'.format(df_trans['COUPON_MATCH_DISC'].min())"
   ]
  },
  {
   "cell_type": "code",
   "execution_count": null,
   "metadata": {
    "collapsed": true
   },
   "outputs": [],
   "source": [
    "df_tr"
   ]
  },
  {
   "cell_type": "markdown",
   "metadata": {},
   "source": [
    "## Products"
   ]
  },
  {
   "cell_type": "code",
   "execution_count": 73,
   "metadata": {
    "collapsed": false
   },
   "outputs": [
    {
     "name": "stdout",
     "output_type": "stream",
     "text": [
      "# of products: 92353\n"
     ]
    }
   ],
   "source": [
    "print '# of products: {}'.format(len(df_prod.index))"
   ]
  },
  {
   "cell_type": "code",
   "execution_count": 11,
   "metadata": {
    "collapsed": false
   },
   "outputs": [
    {
     "name": "stdout",
     "output_type": "stream",
     "text": [
      "Product Sample\n"
     ]
    },
    {
     "data": {
      "text/html": [
       "<div>\n",
       "<table border=\"1\" class=\"dataframe\">\n",
       "  <thead>\n",
       "    <tr style=\"text-align: right;\">\n",
       "      <th></th>\n",
       "      <th>PRODUCT_ID</th>\n",
       "      <th>MANUFACTURER</th>\n",
       "      <th>DEPARTMENT</th>\n",
       "      <th>BRAND</th>\n",
       "      <th>COMMODITY_DESC</th>\n",
       "      <th>SUB_COMMODITY_DESC</th>\n",
       "      <th>CURR_SIZE_OF_PRODUCT</th>\n",
       "    </tr>\n",
       "  </thead>\n",
       "  <tbody>\n",
       "    <tr>\n",
       "      <th>73759</th>\n",
       "      <td>10456467</td>\n",
       "      <td>1136</td>\n",
       "      <td>GROCERY</td>\n",
       "      <td>National</td>\n",
       "      <td>AIR CARE</td>\n",
       "      <td>AIR CARE - CANDLES</td>\n",
       "      <td>3 CT</td>\n",
       "    </tr>\n",
       "    <tr>\n",
       "      <th>27567</th>\n",
       "      <td>1011142</td>\n",
       "      <td>764</td>\n",
       "      <td>DRUG GM</td>\n",
       "      <td>National</td>\n",
       "      <td>SOAP - LIQUID &amp; BAR</td>\n",
       "      <td>BODY WASH</td>\n",
       "      <td>12 OZ</td>\n",
       "    </tr>\n",
       "    <tr>\n",
       "      <th>28904</th>\n",
       "      <td>1022827</td>\n",
       "      <td>61</td>\n",
       "      <td>GROCERY</td>\n",
       "      <td>National</td>\n",
       "      <td>FD WRAPS/BAGS/TRSH BG</td>\n",
       "      <td>ALUMINUM FOIL</td>\n",
       "      <td>37.5 FT</td>\n",
       "    </tr>\n",
       "    <tr>\n",
       "      <th>91378</th>\n",
       "      <td>17249791</td>\n",
       "      <td>1487</td>\n",
       "      <td>GROCERY</td>\n",
       "      <td>National</td>\n",
       "      <td>YOGURT</td>\n",
       "      <td>YOGURT MULTI-PACKS</td>\n",
       "      <td>18 OZ</td>\n",
       "    </tr>\n",
       "    <tr>\n",
       "      <th>60706</th>\n",
       "      <td>7410001</td>\n",
       "      <td>5691</td>\n",
       "      <td>NUTRITION</td>\n",
       "      <td>National</td>\n",
       "      <td>NON EDIBLE PRODUCTS</td>\n",
       "      <td>NATURAL FOODS DISH</td>\n",
       "      <td>45 OZ</td>\n",
       "    </tr>\n",
       "  </tbody>\n",
       "</table>\n",
       "</div>"
      ],
      "text/plain": [
       "       PRODUCT_ID  MANUFACTURER DEPARTMENT     BRAND         COMMODITY_DESC  \\\n",
       "73759    10456467          1136    GROCERY  National               AIR CARE   \n",
       "27567     1011142           764    DRUG GM  National    SOAP - LIQUID & BAR   \n",
       "28904     1022827            61    GROCERY  National  FD WRAPS/BAGS/TRSH BG   \n",
       "91378    17249791          1487    GROCERY  National                 YOGURT   \n",
       "60706     7410001          5691  NUTRITION  National    NON EDIBLE PRODUCTS   \n",
       "\n",
       "       SUB_COMMODITY_DESC CURR_SIZE_OF_PRODUCT  \n",
       "73759  AIR CARE - CANDLES                 3 CT  \n",
       "27567           BODY WASH                12 OZ  \n",
       "28904       ALUMINUM FOIL              37.5 FT  \n",
       "91378  YOGURT MULTI-PACKS                18 OZ  \n",
       "60706  NATURAL FOODS DISH                45 OZ  "
      ]
     },
     "execution_count": 11,
     "metadata": {},
     "output_type": "execute_result"
    }
   ],
   "source": [
    "print 'Product Sample'\n",
    "df_prod.sample(5)"
   ]
  },
  {
   "cell_type": "code",
   "execution_count": 88,
   "metadata": {
    "collapsed": false
   },
   "outputs": [
    {
     "name": "stdout",
     "output_type": "stream",
     "text": [
      "# of manufacturers: 6476\n",
      "# of departments: 44\n",
      "# of commodity descriptions: 308\n",
      "# of sub commodity descriptions: 2383\n"
     ]
    }
   ],
   "source": [
    "print '# of manufacturers: {}'.format(len(set(df_prod['MANUFACTURER'])))\n",
    "print '# of departments: {}'.format(len(set(df_prod['DEPARTMENT'])))\n",
    "print '# of commodity descriptions: {}'.format(len(set(df_prod['COMMODITY_DESC'])))\n",
    "print '# of sub commodity descriptions: {}'.format(len(set(df_prod['SUB_COMMODITY_DESC'])))"
   ]
  },
  {
   "cell_type": "code",
   "execution_count": 87,
   "metadata": {
    "collapsed": false
   },
   "outputs": [
    {
     "data": {
      "text/html": [
       "<h4>Brands</h4><table><tr><td>National</td><td>Private</td></tr></table>"
      ],
      "text/plain": [
       "<IPython.core.display.HTML object>"
      ]
     },
     "metadata": {},
     "output_type": "display_data"
    }
   ],
   "source": [
    "display(HTML(\n",
    "        '<h4>Brands</h4><table><tr><td>{}</td></tr></table>'.format(\n",
    "            '</td><td>'.join('{}'.format(str(_)) \n",
    "                             for _ in set(set(df_prod['BRAND']))\n",
    "                            )\n",
    "        )\n",
    "    ))"
   ]
  },
  {
   "cell_type": "markdown",
   "metadata": {},
   "source": [
    "## Campaigns"
   ]
  },
  {
   "cell_type": "code",
   "execution_count": 89,
   "metadata": {
    "collapsed": false
   },
   "outputs": [
    {
     "name": "stdout",
     "output_type": "stream",
     "text": [
      "# of campaigns: 30\n"
     ]
    }
   ],
   "source": [
    "print '# of campaigns: {}'.format(len(df_camp_desc.index))"
   ]
  },
  {
   "cell_type": "code",
   "execution_count": 10,
   "metadata": {
    "collapsed": false
   },
   "outputs": [
    {
     "name": "stdout",
     "output_type": "stream",
     "text": [
      "Campaigns Sample\n"
     ]
    },
    {
     "data": {
      "text/html": [
       "<div>\n",
       "<table border=\"1\" class=\"dataframe\">\n",
       "  <thead>\n",
       "    <tr style=\"text-align: right;\">\n",
       "      <th></th>\n",
       "      <th>DESCRIPTION</th>\n",
       "      <th>household_key</th>\n",
       "      <th>CAMPAIGN</th>\n",
       "    </tr>\n",
       "  </thead>\n",
       "  <tbody>\n",
       "    <tr>\n",
       "      <th>1331</th>\n",
       "      <td>TypeA</td>\n",
       "      <td>1207</td>\n",
       "      <td>8</td>\n",
       "    </tr>\n",
       "    <tr>\n",
       "      <th>2221</th>\n",
       "      <td>TypeA</td>\n",
       "      <td>1696</td>\n",
       "      <td>13</td>\n",
       "    </tr>\n",
       "    <tr>\n",
       "      <th>7198</th>\n",
       "      <td>TypeC</td>\n",
       "      <td>2324</td>\n",
       "      <td>15</td>\n",
       "    </tr>\n",
       "    <tr>\n",
       "      <th>5724</th>\n",
       "      <td>TypeB</td>\n",
       "      <td>1041</td>\n",
       "      <td>19</td>\n",
       "    </tr>\n",
       "    <tr>\n",
       "      <th>5539</th>\n",
       "      <td>TypeB</td>\n",
       "      <td>1899</td>\n",
       "      <td>17</td>\n",
       "    </tr>\n",
       "  </tbody>\n",
       "</table>\n",
       "</div>"
      ],
      "text/plain": [
       "     DESCRIPTION  household_key  CAMPAIGN\n",
       "1331       TypeA           1207         8\n",
       "2221       TypeA           1696        13\n",
       "7198       TypeC           2324        15\n",
       "5724       TypeB           1041        19\n",
       "5539       TypeB           1899        17"
      ]
     },
     "execution_count": 10,
     "metadata": {},
     "output_type": "execute_result"
    }
   ],
   "source": [
    "print 'Campaigns Sample'\n",
    "df_camp_table.sample(5)"
   ]
  },
  {
   "cell_type": "code",
   "execution_count": 9,
   "metadata": {
    "collapsed": false
   },
   "outputs": [
    {
     "name": "stdout",
     "output_type": "stream",
     "text": [
      "Campaign Details Sample\n"
     ]
    },
    {
     "data": {
      "text/html": [
       "<div>\n",
       "<table border=\"1\" class=\"dataframe\">\n",
       "  <thead>\n",
       "    <tr style=\"text-align: right;\">\n",
       "      <th></th>\n",
       "      <th>DESCRIPTION</th>\n",
       "      <th>CAMPAIGN</th>\n",
       "      <th>START_DAY</th>\n",
       "      <th>END_DAY</th>\n",
       "    </tr>\n",
       "  </thead>\n",
       "  <tbody>\n",
       "    <tr>\n",
       "      <th>24</th>\n",
       "      <td>TypeB</td>\n",
       "      <td>2</td>\n",
       "      <td>351</td>\n",
       "      <td>383</td>\n",
       "    </tr>\n",
       "    <tr>\n",
       "      <th>0</th>\n",
       "      <td>TypeB</td>\n",
       "      <td>24</td>\n",
       "      <td>659</td>\n",
       "      <td>719</td>\n",
       "    </tr>\n",
       "    <tr>\n",
       "      <th>12</th>\n",
       "      <td>TypeA</td>\n",
       "      <td>13</td>\n",
       "      <td>504</td>\n",
       "      <td>551</td>\n",
       "    </tr>\n",
       "    <tr>\n",
       "      <th>2</th>\n",
       "      <td>TypeB</td>\n",
       "      <td>25</td>\n",
       "      <td>659</td>\n",
       "      <td>691</td>\n",
       "    </tr>\n",
       "    <tr>\n",
       "      <th>17</th>\n",
       "      <td>TypeA</td>\n",
       "      <td>8</td>\n",
       "      <td>412</td>\n",
       "      <td>460</td>\n",
       "    </tr>\n",
       "  </tbody>\n",
       "</table>\n",
       "</div>"
      ],
      "text/plain": [
       "   DESCRIPTION  CAMPAIGN  START_DAY  END_DAY\n",
       "24       TypeB         2        351      383\n",
       "0        TypeB        24        659      719\n",
       "12       TypeA        13        504      551\n",
       "2        TypeB        25        659      691\n",
       "17       TypeA         8        412      460"
      ]
     },
     "execution_count": 9,
     "metadata": {},
     "output_type": "execute_result"
    }
   ],
   "source": [
    "print 'Campaign Details Sample'\n",
    "df_camp_desc.sample(5)"
   ]
  },
  {
   "cell_type": "markdown",
   "metadata": {},
   "source": [
    "## Causes"
   ]
  },
  {
   "cell_type": "code",
   "execution_count": 7,
   "metadata": {
    "collapsed": false
   },
   "outputs": [
    {
     "name": "stdout",
     "output_type": "stream",
     "text": [
      "Causal Details Sample\n"
     ]
    },
    {
     "data": {
      "text/html": [
       "<div>\n",
       "<table border=\"1\" class=\"dataframe\">\n",
       "  <thead>\n",
       "    <tr style=\"text-align: right;\">\n",
       "      <th></th>\n",
       "      <th>PRODUCT_ID</th>\n",
       "      <th>STORE_ID</th>\n",
       "      <th>WEEK_NO</th>\n",
       "      <th>display</th>\n",
       "      <th>mailer</th>\n",
       "    </tr>\n",
       "  </thead>\n",
       "  <tbody>\n",
       "    <tr>\n",
       "      <th>26947579</th>\n",
       "      <td>5570406</td>\n",
       "      <td>354</td>\n",
       "      <td>37</td>\n",
       "      <td>0</td>\n",
       "      <td>A</td>\n",
       "    </tr>\n",
       "    <tr>\n",
       "      <th>30538906</th>\n",
       "      <td>8119297</td>\n",
       "      <td>424</td>\n",
       "      <td>75</td>\n",
       "      <td>0</td>\n",
       "      <td>D</td>\n",
       "    </tr>\n",
       "    <tr>\n",
       "      <th>30502864</th>\n",
       "      <td>8118968</td>\n",
       "      <td>334</td>\n",
       "      <td>78</td>\n",
       "      <td>0</td>\n",
       "      <td>A</td>\n",
       "    </tr>\n",
       "    <tr>\n",
       "      <th>36144370</th>\n",
       "      <td>14074079</td>\n",
       "      <td>355</td>\n",
       "      <td>80</td>\n",
       "      <td>3</td>\n",
       "      <td>0</td>\n",
       "    </tr>\n",
       "    <tr>\n",
       "      <th>23046632</th>\n",
       "      <td>1968685</td>\n",
       "      <td>396</td>\n",
       "      <td>85</td>\n",
       "      <td>5</td>\n",
       "      <td>A</td>\n",
       "    </tr>\n",
       "  </tbody>\n",
       "</table>\n",
       "</div>"
      ],
      "text/plain": [
       "          PRODUCT_ID  STORE_ID  WEEK_NO display mailer\n",
       "26947579     5570406       354       37       0      A\n",
       "30538906     8119297       424       75       0      D\n",
       "30502864     8118968       334       78       0      A\n",
       "36144370    14074079       355       80       3      0\n",
       "23046632     1968685       396       85       5      A"
      ]
     },
     "execution_count": 7,
     "metadata": {},
     "output_type": "execute_result"
    }
   ],
   "source": [
    "print 'Causal Details Sample'\n",
    "df_causal.sample(5)"
   ]
  },
  {
   "cell_type": "markdown",
   "metadata": {},
   "source": [
    "## Coupons"
   ]
  },
  {
   "cell_type": "code",
   "execution_count": 75,
   "metadata": {
    "collapsed": false
   },
   "outputs": [
    {
     "name": "stdout",
     "output_type": "stream",
     "text": [
      "# of coupons sent out: 124548\n",
      "# of coupons redeemed: 2318\n"
     ]
    }
   ],
   "source": [
    "print '# of coupons sent out: {}'.format(len(df_coup.index))\n",
    "print '# of coupons redeemed: {}'.format(len(df_coup_redempt.index))"
   ]
  },
  {
   "cell_type": "code",
   "execution_count": 15,
   "metadata": {
    "collapsed": false
   },
   "outputs": [
    {
     "name": "stdout",
     "output_type": "stream",
     "text": [
      "Coupons Issued Sample\n"
     ]
    },
    {
     "data": {
      "text/html": [
       "<div>\n",
       "<table border=\"1\" class=\"dataframe\">\n",
       "  <thead>\n",
       "    <tr style=\"text-align: right;\">\n",
       "      <th></th>\n",
       "      <th>COUPON_UPC</th>\n",
       "      <th>PRODUCT_ID</th>\n",
       "      <th>CAMPAIGN</th>\n",
       "    </tr>\n",
       "  </thead>\n",
       "  <tbody>\n",
       "    <tr>\n",
       "      <th>7580</th>\n",
       "      <td>54850011033</td>\n",
       "      <td>1042915</td>\n",
       "      <td>9</td>\n",
       "    </tr>\n",
       "    <tr>\n",
       "      <th>99175</th>\n",
       "      <td>10000085477</td>\n",
       "      <td>2223176</td>\n",
       "      <td>18</td>\n",
       "    </tr>\n",
       "    <tr>\n",
       "      <th>31953</th>\n",
       "      <td>52840000075</td>\n",
       "      <td>12491699</td>\n",
       "      <td>8</td>\n",
       "    </tr>\n",
       "    <tr>\n",
       "      <th>40985</th>\n",
       "      <td>55410000076</td>\n",
       "      <td>9858880</td>\n",
       "      <td>8</td>\n",
       "    </tr>\n",
       "    <tr>\n",
       "      <th>100520</th>\n",
       "      <td>10000085478</td>\n",
       "      <td>9575251</td>\n",
       "      <td>18</td>\n",
       "    </tr>\n",
       "  </tbody>\n",
       "</table>\n",
       "</div>"
      ],
      "text/plain": [
       "         COUPON_UPC  PRODUCT_ID  CAMPAIGN\n",
       "7580    54850011033     1042915         9\n",
       "99175   10000085477     2223176        18\n",
       "31953   52840000075    12491699         8\n",
       "40985   55410000076     9858880         8\n",
       "100520  10000085478     9575251        18"
      ]
     },
     "execution_count": 15,
     "metadata": {},
     "output_type": "execute_result"
    }
   ],
   "source": [
    "print 'Coupons Issued Sample'\n",
    "df_coup.sample(5)"
   ]
  },
  {
   "cell_type": "code",
   "execution_count": 16,
   "metadata": {
    "collapsed": false
   },
   "outputs": [
    {
     "name": "stdout",
     "output_type": "stream",
     "text": [
      "Coupons Redeemed Sample\n"
     ]
    },
    {
     "data": {
      "text/html": [
       "<div>\n",
       "<table border=\"1\" class=\"dataframe\">\n",
       "  <thead>\n",
       "    <tr style=\"text-align: right;\">\n",
       "      <th></th>\n",
       "      <th>household_key</th>\n",
       "      <th>DAY</th>\n",
       "      <th>COUPON_UPC</th>\n",
       "      <th>CAMPAIGN</th>\n",
       "    </tr>\n",
       "  </thead>\n",
       "  <tbody>\n",
       "    <tr>\n",
       "      <th>1851</th>\n",
       "      <td>2123</td>\n",
       "      <td>505</td>\n",
       "      <td>54180010033</td>\n",
       "      <td>13</td>\n",
       "    </tr>\n",
       "    <tr>\n",
       "      <th>1701</th>\n",
       "      <td>1985</td>\n",
       "      <td>544</td>\n",
       "      <td>51600070033</td>\n",
       "      <td>13</td>\n",
       "    </tr>\n",
       "    <tr>\n",
       "      <th>2273</th>\n",
       "      <td>2489</td>\n",
       "      <td>415</td>\n",
       "      <td>10000089054</td>\n",
       "      <td>8</td>\n",
       "    </tr>\n",
       "    <tr>\n",
       "      <th>957</th>\n",
       "      <td>1005</td>\n",
       "      <td>420</td>\n",
       "      <td>10000085363</td>\n",
       "      <td>8</td>\n",
       "    </tr>\n",
       "    <tr>\n",
       "      <th>1982</th>\n",
       "      <td>2237</td>\n",
       "      <td>604</td>\n",
       "      <td>10000085475</td>\n",
       "      <td>18</td>\n",
       "    </tr>\n",
       "  </tbody>\n",
       "</table>\n",
       "</div>"
      ],
      "text/plain": [
       "      household_key  DAY   COUPON_UPC  CAMPAIGN\n",
       "1851           2123  505  54180010033        13\n",
       "1701           1985  544  51600070033        13\n",
       "2273           2489  415  10000089054         8\n",
       "957            1005  420  10000085363         8\n",
       "1982           2237  604  10000085475        18"
      ]
     },
     "execution_count": 16,
     "metadata": {},
     "output_type": "execute_result"
    }
   ],
   "source": [
    "print 'Coupons Redeemed Sample'\n",
    "df_coup_redempt.sample(5)"
   ]
  },
  {
   "cell_type": "code",
   "execution_count": null,
   "metadata": {
    "collapsed": true
   },
   "outputs": [],
   "source": []
  }
 ],
 "metadata": {
  "kernelspec": {
   "display_name": "Python 2",
   "language": "python",
   "name": "python2"
  },
  "language_info": {
   "codemirror_mode": {
    "name": "ipython",
    "version": 2
   },
   "file_extension": ".py",
   "mimetype": "text/x-python",
   "name": "python",
   "nbconvert_exporter": "python",
   "pygments_lexer": "ipython2",
   "version": "2.7.13"
  }
 },
 "nbformat": 4,
 "nbformat_minor": 2
}
